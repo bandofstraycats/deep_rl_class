{
 "cells": [
  {
   "cell_type": "markdown",
   "metadata": {
    "collapsed": true
   },
   "source": [
    "# Using Deep reinforcement learning to play Atari"
   ]
  },
  {
   "cell_type": "markdown",
   "metadata": {},
   "source": [
    "![Q learning](fig/q-learning.png)\n",
    "[source](https://leonardoaraujosantos.gitbooks.io/artificial-inteligence/content/deep_q_learning.html)\n",
    "\n",
    "Influential paper: [Human-level control through deep reinforcement learning](https://deepmind.com/research/publications/human-level-control-through-deep-reinforcement-learning/)"
   ]
  },
  {
   "cell_type": "markdown",
   "metadata": {},
   "source": [
    "## Plan\n",
    "\n",
    "* Random agent\n",
    "* DQN agent\n",
    "* Exploration / Experience replay \n",
    "* Double DQN\n",
    "* Dueling DQN"
   ]
  },
  {
   "cell_type": "markdown",
   "metadata": {},
   "source": [
    "## Setup\n",
    "### OpenAI Gym\n",
    "OpenAI Gym is library that allows to train agents in a wide variety of environments with near-identical interface.\n",
    "#### Installation\n",
    "```\n",
    "git clone https://github.com/openai/gym.git\n",
    "cd gym\n",
    "pip install -e .[all]\n",
    "```\n",
    "### Keras\n",
    "Keras is a high-level library on the top of deep learning backends (Tensorflow, Theano)\n",
    "#### Installation\n",
    "```\n",
    "pip install keras\n",
    "```"
   ]
  },
  {
   "cell_type": "code",
   "execution_count": 1,
   "metadata": {
    "collapsed": false
   },
   "outputs": [
    {
     "name": "stderr",
     "output_type": "stream",
     "text": [
      "C:\\Program Files\\Anaconda3\\lib\\site-packages\\h5py\\__init__.py:36: FutureWarning: Conversion of the second argument of issubdtype from `float` to `np.floating` is deprecated. In future, it will be treated as `np.float64 == np.dtype(float).type`.\n",
      "  from ._conv import register_converters as _register_converters\n",
      "Using TensorFlow backend.\n"
     ]
    }
   ],
   "source": [
    "import gym\n",
    "\n",
    "import random\n",
    "import numpy as np\n",
    "from keras.layers import Dense\n",
    "from keras.optimizers import Adam, RMSprop, SGD\n",
    "from keras.layers import Dense, Conv2D, Flatten, Input, Reshape, Lambda\n",
    "from keras.models import Sequential\n",
    "from keras import backend as K\n",
    "import tensorflow as tf\n",
    "from datetime import datetime\n",
    "\n",
    "import matplotlib.pyplot as plt\n",
    "%matplotlib inline"
   ]
  },
  {
   "cell_type": "markdown",
   "metadata": {},
   "source": [
    "In this notebook, we consider the CartPole problem where the objective is to balance the pole by applying force to the cart."
   ]
  },
  {
   "cell_type": "code",
   "execution_count": 2,
   "metadata": {
    "collapsed": false
   },
   "outputs": [
    {
     "name": "stderr",
     "output_type": "stream",
     "text": [
      "[2018-09-03 21:13:36,774] Making new env: CartPole-v0\n"
     ]
    },
    {
     "data": {
      "image/png": "[encoded data removed]",
      "text/plain": [
       "<matplotlib.figure.Figure at 0x2f252da21d0>"
      ]
     },
     "metadata": {},
     "output_type": "display_data"
    }
   ],
   "source": [
    "ENV_NAME = 'CartPole'\n",
    "env = gym.make(\"{}-v0\".format(ENV_NAME))\n",
    "env.reset()\n",
    "plt.imshow(env.render('rgb_array'))\n",
    "env.close()"
   ]
  },
  {
   "cell_type": "markdown",
   "metadata": {},
   "source": [
    "In CartPole, we observe 4 variables: position of cart, its velocity, angle of pole, and angular velocity. At any state, there are only has two possible actions: move to the left or move to the right."
   ]
  },
  {
   "cell_type": "code",
   "execution_count": 3,
   "metadata": {
    "collapsed": false
   },
   "outputs": [
    {
     "name": "stdout",
     "output_type": "stream",
     "text": [
      "Discrete(2)\n",
      "Box(4,)\n"
     ]
    }
   ],
   "source": [
    "print(env.action_space)\n",
    "print(env.observation_space)"
   ]
  },
  {
   "cell_type": "markdown",
   "metadata": {},
   "source": [
    "## Gym API key elements\n",
    "* env = gym.make(environment_name) <- sets up the environment\n",
    "* env.reset() <- resets the environment to starting point\n",
    "* env.step(action) <- takes action and goes to state $S_{t+1}$, returns $r_t$, $S_{t+1}$ and if game terminated.\n",
    "* env.render() <- render the output\n",
    "\n",
    "## Tensorboard logging\n",
    "*Optional* - If your backend is Tensorflow you can observe some parameters during the training using the board\n",
    "```\n",
    "tensorboard --logdir=/tmp/logs --port=8000\n",
    "```\n",
    "but you need to set callbacks in the code \n",
    "```\n",
    "tensorboard_cback = keras.callbacks.TensorBoard(log_dir='/tmp/logs', histogram_freq=0, batch_size=32, write_graph=True, write_grads=False, write_images=False, embeddings_freq=0, embeddings_layer_names=None, embeddings_metadata=None)\n",
    "model.fit(...inputs and parameters..., callbacks=[tensorboard_cback])\n",
    "```\n",
    "more details in the documentation https://keras.io/callbacks/#tensorboard and on [Stackoverflow](https://stackoverflow.com/questions/42112260/how-do-i-use-the-tensorboard-callback-of-keras) \n"
   ]
  },
  {
   "cell_type": "markdown",
   "metadata": {},
   "source": [
    "## Random agent\n",
    "\n",
    "The world's simplest agent that independently chooses random actions at each state."
   ]
  },
  {
   "cell_type": "code",
   "execution_count": 4,
   "metadata": {
    "collapsed": true
   },
   "outputs": [],
   "source": [
    "class RandomAgent(object):\n",
    "    \"\"\"The world's simplest agent!\"\"\"\n",
    "    def __init__(self, action_space):\n",
    "        self.action_space = action_space\n",
    "\n",
    "    def get_action(self, state):\n",
    "        return self.action_space.sample()"
   ]
  },
  {
   "cell_type": "markdown",
   "metadata": {},
   "source": [
    "## Play loop\n",
    "\n",
    "Note that CartPole Gym environment is considered as solved as soon as you find a policy which scores 200 on average."
   ]
  },
  {
   "cell_type": "code",
   "execution_count": 5,
   "metadata": {
    "collapsed": false
   },
   "outputs": [
    {
     "name": "stdout",
     "output_type": "stream",
     "text": [
      "Episode 0, Total reward 13.0\n",
      "Episode 1, Total reward 15.0\n",
      "Episode 2, Total reward 17.0\n"
     ]
    },
    {
     "data": {
      "image/png": "[encoded data removed]",
      "text/plain": [
       "<matplotlib.figure.Figure at 0x2f25ec07160>"
      ]
     },
     "metadata": {},
     "output_type": "display_data"
    }
   ],
   "source": [
    "def display_policy(env, agent, add_batch_dim=False, render=False, episodes = 1):\n",
    "    done = False\n",
    "    for i in range(episodes):\n",
    "        state = env.reset()\n",
    "        if add_batch_dim: \n",
    "                # This is a technical reshaping because models are predict on a batch\n",
    "                state = np.reshape(state, [1, state_size])\n",
    "        total_reward = 0\n",
    "        while True:\n",
    "            plt.imshow(env.render('rgb_array'))\n",
    "            action = agent.get_action(state)\n",
    "            next_state, reward, done, _ = env.step(action)\n",
    "            if add_batch_dim:\n",
    "                next_state = np.reshape(next_state, [1, state_size])\n",
    "            state = next_state\n",
    "            total_reward += reward \n",
    "            if done:\n",
    "                print(\"Episode {}, Total reward {}\".format(i, total_reward))\n",
    "                break       \n",
    "    env.close()\n",
    "    \n",
    "    \n",
    "display_policy(env, RandomAgent(env.action_space), episodes=3)    "
   ]
  },
  {
   "cell_type": "markdown",
   "metadata": {},
   "source": [
    "\n",
    "## DQN Agent - Online\n",
    "\n",
    "This is a [Keras](https://keras.io/) code for training a Deep Q-Network (DQN) without exploration. \n",
    "\n",
    "We start with the simple DQN agent -- the trained network is immediatly used to collect the new training data. Unless you are *very* lucky you won't be able to solve the task. "
   ]
  },
  {
   "cell_type": "markdown",
   "metadata": {},
   "source": [
    "## Task 1\n",
    "\n",
    "* Replace the `???` by values that seem reasonnable to you ($\\gamma>1$ is not reasonnable and big steps are prone to numerical instability). \n",
    "* See how the policy training fails. "
   ]
  },
  {
   "cell_type": "code",
   "execution_count": 6,
   "metadata": {
    "collapsed": true
   },
   "outputs": [],
   "source": [
    "class DQNAgent:\n",
    "    def __init__(self, state_size, action_size):\n",
    "        # get size of state and action\n",
    "        self.state_size = state_size\n",
    "        self.action_size = action_size\n",
    "        # hyper parameters \n",
    "        self.gamma = 0.995\n",
    "        self.learning_rate = 0.001\n",
    "        \n",
    "        self.model = self.build_model()\n",
    "        \n",
    "    # approximate Q function using Neural Network\n",
    "    # state is input and Q Value of each action is output of network\n",
    "    def build_model(self):\n",
    "        model = Sequential()\n",
    "        # this is a simple one hidden layer model, but it should be enough for our task\n",
    "        # it is much easier to train with different achitectures (stack layers, change activation)\n",
    "        model.add(Dense(128, input_dim=self.state_size, activation='tanh'))\n",
    "        model.add(Dense(self.action_size, activation='linear'))\n",
    "        model.summary()\n",
    "        # 1/ you can try different losses, for ex., logcosh loss is a twice differenciable approximation of Huber loss\n",
    "        # 2/ from a theoretical perspective learning rate should decay with time to guarantee convergence \n",
    "        model.compile(loss='mse', optimizer=Adam(lr=self.learning_rate))\n",
    "        return model\n",
    "\n",
    "    # get action from model using greedy policy\n",
    "    def get_action(self, state):\n",
    "        q_value = self.model.predict(state)\n",
    "        return np.argmax(q_value[0]) # the [0] is because keras outputs a set of predictions of size 1\n",
    "\n",
    "    # train the target network on the selected action and transition\n",
    "    def train_model(self, action, state, next_state, reward, done):\n",
    "        target = self.model.predict(state)\n",
    "        # we use our internal model in order to estimate the V value of the next state \n",
    "        target_val = self.model.predict(next_state)\n",
    "        # Q Learning: target values should respect the Bellman's optimality principle\n",
    "        if done: # we are on a terminal state\n",
    "            target[0][action] = reward\n",
    "        else:\n",
    "            target[0][action] = reward + self.gamma * (np.amax(target_val))\n",
    "\n",
    "        # and do the model fit!\n",
    "        (self.model.train_on_batch(state, target))"
   ]
  },
  {
   "cell_type": "markdown",
   "metadata": {},
   "source": [
    "## Core training loop"
   ]
  },
  {
   "cell_type": "code",
   "execution_count": 7,
   "metadata": {
    "collapsed": false,
    "scrolled": false
   },
   "outputs": [
    {
     "name": "stdout",
     "output_type": "stream",
     "text": [
      "_________________________________________________________________\n",
      "Layer (type)                 Output Shape              Param #   \n",
      "=================================================================\n",
      "dense_1 (Dense)              (None, 128)               640       \n",
      "_________________________________________________________________\n",
      "dense_2 (Dense)              (None, 2)                 258       \n",
      "=================================================================\n",
      "Total params: 898\n",
      "Trainable params: 898\n",
      "Non-trainable params: 0\n",
      "_________________________________________________________________\n",
      "Episode 1, Total reward 10.0\n",
      "Episode 11, Total reward 10.0\n",
      "Episode 21, Total reward 9.0\n",
      "Episode 31, Total reward 9.0\n",
      "Episode 41, Total reward 10.0\n"
     ]
    }
   ],
   "source": [
    "state_size = env.observation_space.shape[0]\n",
    "agent = DQNAgent(state_size, env.action_space.n)\n",
    "\n",
    "episode_count = 50\n",
    "done = False\n",
    "\n",
    "for i in range(episode_count):\n",
    "    state = env.reset()\n",
    "    state = np.reshape(state, [1, state_size])\n",
    "    total_reward = 0\n",
    "    while True:\n",
    "        action = agent.get_action(state)\n",
    "        next_state, reward, done, _ = env.step(action)\n",
    "        next_state = np.reshape(next_state, [1, state_size])\n",
    "        total_reward += reward\n",
    "        agent.train_model(action, state, next_state, reward, done)\n",
    "        \n",
    "        state = next_state\n",
    "        if done:\n",
    "            if i % 10 == 1:\n",
    "                print(\"Episode {}, Total reward {}\".format(i, total_reward))\n",
    "            break\n",
    "\n",
    "env.close()"
   ]
  },
  {
   "cell_type": "markdown",
   "metadata": {},
   "source": [
    "## DQN Agent with Exploration\n",
    "\n",
    "This is the first agent that is going to solve the task. It will typically require to run a few hundred episodes to collect the data. \n",
    "\n",
    "The difference with the previous agent is that we add an exploration mechanism in order to take care of the data collection for the training. We advise to use an $\\varepsilon_n$-greedy, meaning that the value of $\\varepsilon$ is going to decay over time. Several kind of decays can be found in the litterature. A simple one is to use a mutiplicative update of $\\varepsilon$ by a constant smaller than 1 as long as $\\varepsilon$ is smaller than a small minimal rate (typically, in the range 1%-5%)."
   ]
  },
  {
   "cell_type": "markdown",
   "metadata": {},
   "source": [
    "## Task 2\n",
    "\n",
    "* Code your exploration marked by TODOs\n",
    "* Tune the hyperparameters (including the ones from the previous section) in order to solve the task. This may be not so easy and will likely require more than 500 episodes and a final small value of epsilon. Next sessions will be about techniques to increase sample efficiency (i.e require less episodes).\n",
    "\n",
    "**Trouble shooting:** *some working parameters and network architecture are provided at the bottom of this page in case you have trouble finding a working situation.*"
   ]
  },
  {
   "cell_type": "code",
   "execution_count": 8,
   "metadata": {
    "collapsed": true
   },
   "outputs": [],
   "source": [
    "class DQNAgentWithExploration(DQNAgent):\n",
    "    def __init__(self, state_size, action_size):\n",
    "        super(DQNAgentWithExploration, self).__init__(state_size, action_size)\n",
    "        self.epsilon = 1.0\n",
    "        # exploration schedule parameters \n",
    "        self.epsilon_decay = 0.995\n",
    "        self.epsilon_min = 0.01\n",
    "        # TODO: store your additional parameters here \n",
    "\n",
    "    # decay epsilon\n",
    "    def update_epsilon(self):\n",
    "        # TODO: write the code for your decay  \n",
    "        if self.epsilon > self.epsilon_min:\n",
    "            self.epsilon *= self.epsilon_decay\n",
    "\n",
    "    # get action from model using greedy policy\n",
    "    def get_action(self, state):\n",
    "        if np.random.rand() <= self.epsilon:\n",
    "            return random.randrange(self.action_size)\n",
    "        else:\n",
    "            # TODO: add the exploration \n",
    "            q_value = self.model.predict(state)\n",
    "            return np.argmax(q_value[0])"
   ]
  },
  {
   "cell_type": "code",
   "execution_count": 9,
   "metadata": {
    "collapsed": false
   },
   "outputs": [
    {
     "name": "stdout",
     "output_type": "stream",
     "text": [
      "_________________________________________________________________\n",
      "Layer (type)                 Output Shape              Param #   \n",
      "=================================================================\n",
      "dense_3 (Dense)              (None, 128)               640       \n",
      "_________________________________________________________________\n",
      "dense_4 (Dense)              (None, 2)                 258       \n",
      "=================================================================\n",
      "Total params: 898\n",
      "Trainable params: 898\n",
      "Non-trainable params: 0\n",
      "_________________________________________________________________\n",
      "Episode 0, Total reward 16.0, Epsilon 0.92\n",
      "Episode 20, Total reward 10.0, Epsilon 0.28\n",
      "Episode 40, Total reward 10.0, Epsilon 0.10\n",
      "Episode 60, Total reward 10.0, Epsilon 0.04\n",
      "Episode 80, Total reward 9.0, Epsilon 0.01\n",
      "Episode 100, Total reward 10.0, Epsilon 0.01\n",
      "Episode 120, Total reward 10.0, Epsilon 0.01\n",
      "Episode 140, Total reward 12.0, Epsilon 0.01\n",
      "Episode 160, Total reward 16.0, Epsilon 0.01\n",
      "Episode 180, Total reward 11.0, Epsilon 0.01\n",
      "Episode 200, Total reward 11.0, Epsilon 0.01\n",
      "Episode 220, Total reward 15.0, Epsilon 0.01\n",
      "Episode 240, Total reward 12.0, Epsilon 0.01\n",
      "Episode 260, Total reward 12.0, Epsilon 0.01\n",
      "Episode 280, Total reward 13.0, Epsilon 0.01\n",
      "Episode 300, Total reward 20.0, Epsilon 0.01\n",
      "Episode 320, Total reward 18.0, Epsilon 0.01\n",
      "Episode 340, Total reward 19.0, Epsilon 0.01\n",
      "Episode 360, Total reward 16.0, Epsilon 0.01\n",
      "Episode 380, Total reward 20.0, Epsilon 0.01\n",
      "Episode 400, Total reward 11.0, Epsilon 0.01\n",
      "Episode 420, Total reward 12.0, Epsilon 0.01\n",
      "Episode 440, Total reward 37.0, Epsilon 0.01\n",
      "Episode 460, Total reward 20.0, Epsilon 0.01\n",
      "Episode 480, Total reward 27.0, Epsilon 0.01\n",
      "Episode 500, Total reward 26.0, Epsilon 0.01\n"
     ]
    }
   ],
   "source": [
    "state_size = env.observation_space.shape[0]\n",
    "agent = DQNAgentWithExploration(state_size, env.action_space.n)\n",
    "\n",
    "episode_count = 501\n",
    "done = False\n",
    "\n",
    "for i in range(episode_count):\n",
    "    state = env.reset()\n",
    "    state = np.reshape(state, [1, state_size])\n",
    "    total_reward = 0\n",
    "    while True:\n",
    "        action = agent.get_action(state)\n",
    "        next_state, reward, done, _ = env.step(action)\n",
    "        next_state = np.reshape(next_state, [1, state_size])\n",
    "        total_reward += reward\n",
    "        agent.train_model(action, state, next_state, reward, done)\n",
    "        agent.update_epsilon()\n",
    "\n",
    "        state = next_state\n",
    "        if done:\n",
    "            if i % 20 == 0:\n",
    "                print(\"Episode {}, Total reward {}, Epsilon {:0.2f}\".format(i, total_reward, agent.epsilon))\n",
    "            break\n",
    "\n",
    "env.close()"
   ]
  },
  {
   "cell_type": "markdown",
   "metadata": {},
   "source": [
    "## DQN Agent with Exploration and Experience Replay\n",
    "\n",
    "We are now going to save some samples in a limited memory in order to assemble mini-batches during the training. The exploration policy remains the same as in the previous section.  \n",
    "\n",
    "Reference: [Human-level control through deep reinforcement learning](https://deepmind.com/research/publications/human-level-control-through-deep-reinforcement-learning/)"
   ]
  },
  {
   "cell_type": "markdown",
   "metadata": {},
   "source": [
    "## Task 3\n",
    "\n",
    "* Fill the TODO section that assembles the mini-batch sent to the optimizer."
   ]
  },
  {
   "cell_type": "code",
   "execution_count": 10,
   "metadata": {
    "collapsed": true
   },
   "outputs": [],
   "source": [
    "from collections import deque\n",
    "\n",
    "class DQNAgentWithExplorationAndReplay(DQNAgentWithExploration):\n",
    "    def __init__(self, state_size, action_size):\n",
    "        super(DQNAgentWithExplorationAndReplay, self).__init__(state_size, action_size)\n",
    "        self.batch_size = 32\n",
    "        self.train_start = 64\n",
    "        # create replay memory using deque\n",
    "        self.memory = deque(maxlen=5000)\n",
    "\n",
    "    # save sample <s,a,r,s'> to the replay memory\n",
    "    def append_sample(self, state, action, reward, next_state, done):\n",
    "        self.memory.append((state, action, reward, next_state, done))        \n",
    "\n",
    "    \n",
    "    def train_model(self):\n",
    "        if len(self.memory) < self.train_start:\n",
    "            return\n",
    "        batch_size = min(self.batch_size, len(self.memory))\n",
    "        mini_batch = random.sample(self.memory, batch_size)\n",
    "\n",
    "        update_input = np.zeros((batch_size, self.state_size))\n",
    "        update_target = np.zeros((batch_size, self.state_size))\n",
    "        action, reward, done = [], [], []\n",
    "        \n",
    "        # pick samples randomly from replay memory (using batch_size)\n",
    "        for i in range(self.batch_size):\n",
    "            update_input[i] = mini_batch[i][0]\n",
    "            action.append(mini_batch[i][1])\n",
    "            reward.append(mini_batch[i][2])\n",
    "            update_target[i] = mini_batch[i][3]\n",
    "            done.append(mini_batch[i][4])\n",
    "\n",
    "        target = self.model.predict(update_input)\n",
    "        target_val = self.model.predict(update_target)\n",
    "\n",
    "        for i in range(self.batch_size):\n",
    "            # TODO\n",
    "            if done[i]:\n",
    "                target[i][action[i]] = reward[i]\n",
    "            else:\n",
    "                target[i][action[i]] = reward[i] + self.gamma * (\n",
    "                        np.amax(target_val[i])) # target_val[i][np.argmax(target_val[i])])\n",
    "           \n",
    "        # and do the model fit!\n",
    "        (\"loss :\", self.model.train_on_batch(update_input, target))"
   ]
  },
  {
   "cell_type": "code",
   "execution_count": 11,
   "metadata": {
    "collapsed": false,
    "scrolled": false
   },
   "outputs": [
    {
     "name": "stdout",
     "output_type": "stream",
     "text": [
      "_________________________________________________________________\n",
      "Layer (type)                 Output Shape              Param #   \n",
      "=================================================================\n",
      "dense_5 (Dense)              (None, 128)               640       \n",
      "_________________________________________________________________\n",
      "dense_6 (Dense)              (None, 2)                 258       \n",
      "=================================================================\n",
      "Total params: 898\n",
      "Trainable params: 898\n",
      "Non-trainable params: 0\n",
      "_________________________________________________________________\n",
      "Episode 0,\t Total reward 66.0,\t Memory length 66,\t Epsilon 0.72\n",
      "Episode 20,\t Total reward 26.0,\t Memory length 417,\t Epsilon 0.12\n",
      "Episode 40,\t Total reward 25.0,\t Memory length 787,\t Epsilon 0.02\n",
      "Episode 60,\t Total reward 29.0,\t Memory length 1462,\t Epsilon 0.01\n",
      "Episode 80,\t Total reward 120.0,\t Memory length 3092,\t Epsilon 0.01\n",
      "Episode 100,\t Total reward 200.0,\t Memory length 5000,\t Epsilon 0.01\n",
      "Episode 120,\t Total reward 200.0,\t Memory length 5000,\t Epsilon 0.01\n",
      "Episode 140,\t Total reward 108.0,\t Memory length 5000,\t Epsilon 0.01\n",
      "Episode 160,\t Total reward 121.0,\t Memory length 5000,\t Epsilon 0.01\n",
      "Episode 180,\t Total reward 200.0,\t Memory length 5000,\t Epsilon 0.01\n",
      "Episode 200,\t Total reward 200.0,\t Memory length 5000,\t Epsilon 0.01\n",
      "Episode 220,\t Total reward 200.0,\t Memory length 5000,\t Epsilon 0.01\n",
      "Episode 240,\t Total reward 200.0,\t Memory length 5000,\t Epsilon 0.01\n",
      "Episode 260,\t Total reward 200.0,\t Memory length 5000,\t Epsilon 0.01\n",
      "Episode 280,\t Total reward 200.0,\t Memory length 5000,\t Epsilon 0.01\n",
      "Episode 300,\t Total reward 200.0,\t Memory length 5000,\t Epsilon 0.01\n"
     ]
    }
   ],
   "source": [
    "state_size = env.observation_space.shape[0]\n",
    "agent = DQNAgentWithExplorationAndReplay(state_size, env.action_space.n)\n",
    "\n",
    "episode_count = 301\n",
    "done = False\n",
    "\n",
    "for i in range(episode_count):\n",
    "    state = env.reset()\n",
    "    state = np.reshape(state, [1, state_size])\n",
    "    total_reward = 0\n",
    "    while True:\n",
    "        action = agent.get_action(state)\n",
    "        next_state, reward, done, _ = env.step(action)\n",
    "        next_state = np.reshape(next_state, [1, state_size])\n",
    "        # save the sample <s, a, r, s'> to the replay memory\n",
    "        agent.append_sample(state, action, reward, next_state, done)\n",
    "        total_reward += reward\n",
    "        agent.train_model()\n",
    "        agent.update_epsilon()\n",
    "\n",
    "        state = next_state\n",
    "        if done:\n",
    "            if i % 20 == 0:\n",
    "                print(\"Episode {},\\t Total reward {},\\t Memory length {},\\t Epsilon {:0.2f}\".format(i, total_reward, len(agent.memory), agent.epsilon))\n",
    "            break\n",
    "\n",
    "env.close()"
   ]
  },
  {
   "cell_type": "markdown",
   "metadata": {},
   "source": [
    "## Double DQN Agent with Exploration and Experience Replay\n",
    "\n",
    "Now we train two identical networks. We keep frozen for some timesteps the network that is in charge of evaluation (i.e that is used to compute targets).\n",
    "Note that you can find some variants where the target network is updated at each timestep but with a small fraction of the difference with the policy network.\n",
    "\n",
    "Reference: [Deep Reinforcement Learning with Double Q-learning](https://arxiv.org/abs/1509.06461)"
   ]
  },
  {
   "cell_type": "markdown",
   "metadata": {},
   "source": [
    "## Task 4\n",
    "\n",
    "* Implement Double DQN, this is should reduce the variance of predicted Q-values"
   ]
  },
  {
   "cell_type": "code",
   "execution_count": 18,
   "metadata": {
    "collapsed": true
   },
   "outputs": [],
   "source": [
    "class DoubleDQNAgentWithExplorationAndReplay(DQNAgentWithExplorationAndReplay):\n",
    "    def __init__(self, state_size, action_size):\n",
    "        super(DoubleDQNAgentWithExplorationAndReplay, self).__init__(state_size, action_size)\n",
    "        # TODO: initialize a second model\n",
    "        self.target_model = self.build_model()\n",
    "\n",
    "    def update_target_model(self):\n",
    "        # TODO: copy weights from the model used for action selection to the model used for computing targets\n",
    "        self.target_model.set_weights(self.model.get_weights())\n",
    "    \n",
    "    def train_model(self):\n",
    "        if len(self.memory) < self.train_start:\n",
    "            return\n",
    "        batch_size = min(self.batch_size, len(self.memory))\n",
    "        mini_batch = random.sample(self.memory, batch_size)\n",
    "\n",
    "        update_input = np.zeros((batch_size, self.state_size))\n",
    "        update_target = np.zeros((batch_size, self.state_size))\n",
    "        action, reward, done = [], [], []\n",
    "        \n",
    "        # pick samples randomly from replay memory \n",
    "        for i in range(self.batch_size):\n",
    "            update_input[i] = mini_batch[i][0]\n",
    "            action.append(mini_batch[i][1])\n",
    "            reward.append(mini_batch[i][2])\n",
    "            update_target[i] = mini_batch[i][3]\n",
    "            done.append(mini_batch[i][4])\n",
    "\n",
    "        target = self.model.predict(update_input)\n",
    "        target_val = self.model.predict(update_target)\n",
    "        # TODO: compute targets (in target_val)        \n",
    "        double_target_val = self.target_model.predict(update_target)\n",
    "        \n",
    "        for i in range(self.batch_size):\n",
    "            # approx Q Learning\n",
    "            if done[i]:\n",
    "                target[i][action[i]] = reward[i]\n",
    "            else:\n",
    "                target[i][action[i]] = reward[i] + self.gamma * (double_target_val[i][np.argmax(target_val[i])])\n",
    "          \n",
    "\n",
    "        # and do the model fit!\n",
    "        self.model.train_on_batch(update_input, target)"
   ]
  },
  {
   "cell_type": "code",
   "execution_count": 22,
   "metadata": {
    "collapsed": false
   },
   "outputs": [
    {
     "name": "stdout",
     "output_type": "stream",
     "text": [
      "_________________________________________________________________\n",
      "Layer (type)                 Output Shape              Param #   \n",
      "=================================================================\n",
      "dense_27 (Dense)             (None, 128)               640       \n",
      "_________________________________________________________________\n",
      "dense_28 (Dense)             (None, 2)                 258       \n",
      "=================================================================\n",
      "Total params: 898\n",
      "Trainable params: 898\n",
      "Non-trainable params: 0\n",
      "_________________________________________________________________\n",
      "_________________________________________________________________\n",
      "Layer (type)                 Output Shape              Param #   \n",
      "=================================================================\n",
      "dense_29 (Dense)             (None, 128)               640       \n",
      "_________________________________________________________________\n",
      "dense_30 (Dense)             (None, 2)                 258       \n",
      "=================================================================\n",
      "Total params: 898\n",
      "Trainable params: 898\n",
      "Non-trainable params: 0\n",
      "_________________________________________________________________\n",
      "Episode 0,\t Total reward 17.0,\t Memory length 17,\t Epsilon 0.92\n",
      "Episode 20,\t Total reward 8.0,\t Memory length 289,\t Epsilon 0.23\n",
      "Episode 40,\t Total reward 47.0,\t Memory length 585,\t Epsilon 0.05\n",
      "Episode 60,\t Total reward 33.0,\t Memory length 1473,\t Epsilon 0.01\n",
      "Episode 80,\t Total reward 39.0,\t Memory length 2274,\t Epsilon 0.01\n",
      "Episode 100,\t Total reward 57.0,\t Memory length 3261,\t Epsilon 0.01\n",
      "Episode 120,\t Total reward 171.0,\t Memory length 4841,\t Epsilon 0.01\n",
      "Episode 140,\t Total reward 200.0,\t Memory length 5000,\t Epsilon 0.01\n",
      "Episode 160,\t Total reward 200.0,\t Memory length 5000,\t Epsilon 0.01\n",
      "Episode 180,\t Total reward 199.0,\t Memory length 5000,\t Epsilon 0.01\n",
      "Episode 200,\t Total reward 192.0,\t Memory length 5000,\t Epsilon 0.01\n",
      "Episode 220,\t Total reward 171.0,\t Memory length 5000,\t Epsilon 0.01\n",
      "Episode 240,\t Total reward 200.0,\t Memory length 5000,\t Epsilon 0.01\n",
      "Episode 260,\t Total reward 200.0,\t Memory length 5000,\t Epsilon 0.01\n",
      "Episode 280,\t Total reward 200.0,\t Memory length 5000,\t Epsilon 0.01\n",
      "Episode 300,\t Total reward 200.0,\t Memory length 5000,\t Epsilon 0.01\n"
     ]
    }
   ],
   "source": [
    "state_size = env.observation_space.shape[0]\n",
    "agent = DoubleDQNAgentWithExplorationAndReplay(state_size, env.action_space.n)\n",
    "\n",
    "episode_count = 301\n",
    "done = False\n",
    "\n",
    "# TODO: add the update of the target model at the end of each episode\n",
    "for i in range(episode_count):\n",
    "    state = env.reset()\n",
    "    state = np.reshape(state, [1, state_size])\n",
    "    total_reward = 0\n",
    "    while True:\n",
    "        action = agent.get_action(state)\n",
    "        next_state, reward, done, _ = env.step(action)\n",
    "        next_state = np.reshape(next_state, [1, state_size])\n",
    "        # save the sample <s, a, r, s'> to the replay memory\n",
    "        agent.append_sample(state, action, reward, next_state, done)\n",
    "        total_reward += reward\n",
    "        agent.train_model()\n",
    "        agent.update_epsilon()\n",
    "        \n",
    "        state = next_state\n",
    "        if done:\n",
    "            agent.update_target_model()\n",
    "            \n",
    "            if i % 20 == 0:\n",
    "                print(\"Episode {},\\t Total reward {},\\t Memory length {},\\t Epsilon {:0.2f}\".format(i, total_reward, len(agent.memory), agent.epsilon))\n",
    "            break    \n",
    "\n",
    "env.close()"
   ]
  },
  {
   "cell_type": "markdown",
   "metadata": {},
   "source": [
    "To see the actual performance of the policy, we should set $\\varepsilon=0$"
   ]
  },
  {
   "cell_type": "code",
   "execution_count": 21,
   "metadata": {
    "collapsed": false
   },
   "outputs": [
    {
     "name": "stdout",
     "output_type": "stream",
     "text": [
      "Episode 0, Total reward 200.0\n"
     ]
    },
    {
     "data": {
      "image/png": "[encoded data removed]",
      "text/plain": [
       "<matplotlib.figure.Figure at 0x2f26175a518>"
      ]
     },
     "metadata": {},
     "output_type": "display_data"
    }
   ],
   "source": [
    "agent.epsilon = 0\n",
    "display_policy(env, agent, episodes=1, add_batch_dim=True)"
   ]
  },
  {
   "cell_type": "markdown",
   "metadata": {
    "collapsed": true
   },
   "source": [
    "## Dueling DQN \n",
    "\n",
    "Dueling network contains two separate estimators: one for the state value function and one for the state-dependent action advantage function. This should reduce the variance of Q-values estimation.\n",
    "\n",
    "Reference: [Dueling Network Architectures for Deep Reinforcement Learning](https://arxiv.org/abs/1511.06581)\n",
    "\n",
    "## Task 5\n",
    "\n",
    "* Implement Dueling DQN"
   ]
  },
  {
   "cell_type": "code",
   "execution_count": 23,
   "metadata": {
    "collapsed": true
   },
   "outputs": [],
   "source": [
    "class DuelingDoubleDQNAgentWithExplorationAndReplay(DoubleDQNAgentWithExplorationAndReplay):\n",
    "    def __init__(self, state_size, action_size):\n",
    "        super(DuelingDoubleDQNAgentWithExplorationAndReplay, self).__init__(state_size, action_size)\n",
    "        self.model = build_dueling_model()\n",
    "        self.target_model = build_dueling_model()\n",
    "        \n",
    "    def build_dueling_model(self):\n",
    "        inputs = Input(shape=self.state_size)\n",
    "        net = Dense(128, input_dim=self.state_size, activation='tanh')(inputs)\n",
    "        \n",
    "        y = Dense(self.action_size + 1, activation='linear')(net)\n",
    "        final = Lambda(lambda a: K.expand_dims(a[:, 0], -1) + a[:, 1:] - K.mean(a[:, 1:], keepdims=True),\n",
    "                       output_shape=(self.action_size,))(y)\n",
    "        \n",
    "        model = Model(inputs=inputs, outputs=final)\n",
    "        model.summary()\n",
    "        model.compile(loss='mse', optimizer=Adam(lr=self.learning_rate))\n",
    "        return model    "
   ]
  },
  {
   "cell_type": "code",
   "execution_count": 24,
   "metadata": {
    "collapsed": false
   },
   "outputs": [
    {
     "name": "stdout",
     "output_type": "stream",
     "text": [
      "_________________________________________________________________\n",
      "Layer (type)                 Output Shape              Param #   \n",
      "=================================================================\n",
      "dense_31 (Dense)             (None, 128)               640       \n",
      "_________________________________________________________________\n",
      "dense_32 (Dense)             (None, 2)                 258       \n",
      "=================================================================\n",
      "Total params: 898\n",
      "Trainable params: 898\n",
      "Non-trainable params: 0\n",
      "_________________________________________________________________\n",
      "_________________________________________________________________\n",
      "Layer (type)                 Output Shape              Param #   \n",
      "=================================================================\n",
      "dense_33 (Dense)             (None, 128)               640       \n",
      "_________________________________________________________________\n",
      "dense_34 (Dense)             (None, 2)                 258       \n",
      "=================================================================\n",
      "Total params: 898\n",
      "Trainable params: 898\n",
      "Non-trainable params: 0\n",
      "_________________________________________________________________\n",
      "Episode 0,\t Total reward 14.0,\t Memory length 14,\t Epsilon 0.93\n",
      "Episode 20,\t Total reward 14.0,\t Memory length 504,\t Epsilon 0.08\n",
      "Episode 40,\t Total reward 39.0,\t Memory length 1078,\t Epsilon 0.01\n",
      "Episode 60,\t Total reward 51.0,\t Memory length 1884,\t Epsilon 0.01\n",
      "Episode 80,\t Total reward 45.0,\t Memory length 3016,\t Epsilon 0.01\n",
      "Episode 100,\t Total reward 91.0,\t Memory length 4862,\t Epsilon 0.01\n",
      "Episode 120,\t Total reward 200.0,\t Memory length 5000,\t Epsilon 0.01\n",
      "Episode 140,\t Total reward 200.0,\t Memory length 5000,\t Epsilon 0.01\n",
      "Episode 160,\t Total reward 200.0,\t Memory length 5000,\t Epsilon 0.01\n",
      "Episode 180,\t Total reward 200.0,\t Memory length 5000,\t Epsilon 0.01\n",
      "Episode 200,\t Total reward 200.0,\t Memory length 5000,\t Epsilon 0.01\n",
      "Episode 220,\t Total reward 200.0,\t Memory length 5000,\t Epsilon 0.01\n",
      "Episode 240,\t Total reward 200.0,\t Memory length 5000,\t Epsilon 0.01\n",
      "Episode 260,\t Total reward 83.0,\t Memory length 5000,\t Epsilon 0.01\n",
      "Episode 280,\t Total reward 200.0,\t Memory length 5000,\t Epsilon 0.01\n",
      "Episode 300,\t Total reward 200.0,\t Memory length 5000,\t Epsilon 0.01\n"
     ]
    }
   ],
   "source": [
    "state_size = env.observation_space.shape[0]\n",
    "agent = DoubleDQNAgentWithExplorationAndReplay(state_size, env.action_space.n)\n",
    "\n",
    "episode_count = 301\n",
    "done = False\n",
    "\n",
    "for i in range(episode_count):\n",
    "    state = env.reset()\n",
    "    state = np.reshape(state, [1, state_size])\n",
    "    total_reward = 0\n",
    "    while True:\n",
    "        action = agent.get_action(state)\n",
    "        next_state, reward, done, _ = env.step(action)\n",
    "        next_state = np.reshape(next_state, [1, state_size])\n",
    "        # save the sample <s, a, r, s'> to the replay memory\n",
    "        agent.append_sample(state, action, reward, next_state, done)\n",
    "        total_reward += reward\n",
    "        agent.train_model()\n",
    "        agent.update_epsilon()\n",
    "        \n",
    "        state = next_state\n",
    "        if done:\n",
    "            agent.update_target_model()\n",
    "            \n",
    "            if i % 20 == 0:\n",
    "                print(\"Episode {},\\t Total reward {},\\t Memory length {},\\t Epsilon {:0.2f}\".format(i, total_reward, len(agent.memory), agent.epsilon))\n",
    "            break    \n",
    "\n",
    "env.close()"
   ]
  },
  {
   "cell_type": "markdown",
   "metadata": {},
   "source": [
    "# More ideas to try\n",
    "\n",
    "* Compute averaged curves over several initialisations for each algorithm\n",
    "* Shape the reward in order to keep the cart close to its initial position\n",
    "* Do not sample uniformly in the memory for the batches using [prioritized replay](https://arxiv.org/pdf/1511.05952.pdf)\n",
    "* (Painfull) learn a policy with a pole starting from the bottom position\n",
    "* [Visualize](http://arxiv.org/abs/1412.6806) important areas of the pictures for taking the decision using saliency maps computed by guided backpropagation\n",
    "* Try [policy gradient method](http://www.scholarpedia.org/article/Policy_gradient_methods)"
   ]
  },
  {
   "cell_type": "markdown",
   "metadata": {},
   "source": [
    "# Spoiler\n",
    "\n",
    "Some working parameters for the network: \n",
    "* gamma = 0.995\n",
    "* learning_rate = 0.001\n",
    "* Exploration by $\\varepsilon$-greddy with multiplicative decay and minimal value \n",
    "  ```\n",
    "  self.epsilon = 1.0\n",
    "  self.epsilon_decay = 0.995\n",
    "  self.epsilon_min = 0.01\n",
    "  ```\n",
    "* Structure of the network: 1 layer with 128 hidden units with tanh activation, MSE loss and optimized using Adam optimizer:\n",
    "  ```\n",
    "  model.add(Dense(128, input_dim=self.state_size, activation='tanh'))\n",
    "  model.add(Dense(self.action_size, activation='linear'))\n",
    "  model.summary()\n",
    "  model.compile(loss='mse', optimizer=Adam(lr=self.learning_rate))\n",
    "  ```        "
   ]
  },
  {
   "cell_type": "code",
   "execution_count": null,
   "metadata": {
    "collapsed": true
   },
   "outputs": [],
   "source": []
  }
 ],
 "metadata": {
  "anaconda-cloud": {},
  "kernelspec": {
   "display_name": "Python [default]",
   "language": "python",
   "name": "python3"
  },
  "language_info": {
   "codemirror_mode": {
    "name": "ipython",
    "version": 3
   },
   "file_extension": ".py",
   "mimetype": "text/x-python",
   "name": "python",
   "nbconvert_exporter": "python",
   "pygments_lexer": "ipython3",
   "version": "3.5.5"
  }
 },
 "nbformat": 4,
 "nbformat_minor": 1
}
